{
 "cells": [
  {
   "cell_type": "code",
   "execution_count": 5,
   "id": "908f90d7-01d5-4f32-bcfe-9ba049f256ff",
   "metadata": {},
   "outputs": [
    {
     "data": {
      "application/vnd.jupyter.widget-view+json": {
       "model_id": "399b3f7c76264f908f639115b03f2577",
       "version_major": 2,
       "version_minor": 0
      },
      "text/plain": [
       "FileUpload(value=(), accept='.csv', description='Upload')"
      ]
     },
     "metadata": {},
     "output_type": "display_data"
    }
   ],
   "source": [
    "import pandas as pd\n",
    "import io\n",
    "import ipywidgets as widgets\n",
    "from IPython.display import display\n",
    "\n",
    "# Create a file uploader widget\n",
    "uploader = widgets.FileUpload(\n",
    "    accept='.csv',  # Only allow CSV files\n",
    "    multiple=False  # Don't allow multiple files\n",
    ")\n",
    "\n",
    "# Function to display the head of the uploaded file\n",
    "def show_head(change):\n",
    "    if uploader.value:\n",
    "        # Get the uploaded file\n",
    "        file = uploader.value[0]\n",
    "        # Convert to a pandas DataFrame\n",
    "        df = pd.read_csv(io.BytesIO(file['content']))\n",
    "        # Display the head of the dataframe\n",
    "        display(df.head())\n",
    "\n",
    "# Display uploader widget\n",
    "display(uploader)\n",
    "# Trigger function when a file is uploaded\n",
    "uploader.observe(show_head, names='value')\n"
   ]
  }
 ],
 "metadata": {
  "kernelspec": {
   "display_name": "Python 3 (ipykernel)",
   "language": "python",
   "name": "python3"
  },
  "language_info": {
   "codemirror_mode": {
    "name": "ipython",
    "version": 3
   },
   "file_extension": ".py",
   "mimetype": "text/x-python",
   "name": "python",
   "nbconvert_exporter": "python",
   "pygments_lexer": "ipython3",
   "version": "3.12.7"
  }
 },
 "nbformat": 4,
 "nbformat_minor": 5
}
