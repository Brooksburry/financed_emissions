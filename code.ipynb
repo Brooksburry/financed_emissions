{
 "cells": [
  {
   "cell_type": "code",
   "execution_count": 6,
   "id": "908f90d7-01d5-4f32-bcfe-9ba049f256ff",
   "metadata": {},
   "outputs": [
    {
     "data": {
      "application/vnd.jupyter.widget-view+json": {
       "model_id": "e7d929684dcc4f848169e62540451c70",
       "version_major": 2,
       "version_minor": 0
      },
      "text/plain": [
       "FileUpload(value=(), accept='.csv', description='Upload')"
      ]
     },
     "metadata": {},
     "output_type": "display_data"
    },
    {
     "data": {
      "application/vnd.jupyter.widget-view+json": {
       "model_id": "40bf9dfc31bf44d38c5898fea09ec81c",
       "version_major": 2,
       "version_minor": 0
      },
      "text/plain": [
       "Output()"
      ]
     },
     "metadata": {},
     "output_type": "display_data"
    }
   ],
   "source": [
    "import pandas as pd\n",
    "import io\n",
    "import ipywidgets as widgets\n",
    "from IPython.display import display, clear_output\n",
    "\n",
    "# Create a file uploader widget\n",
    "uploader = widgets.FileUpload(\n",
    "    accept='.csv',  # Accept CSV files\n",
    "    multiple=False  # Only allow a single file to be uploaded\n",
    ")\n",
    "\n",
    "# Output widget to display the head of the file\n",
    "output = widgets.Output()\n",
    "\n",
    "def handle_upload(change):\n",
    "    with output:\n",
    "        clear_output()  # Clear previous output\n",
    "        if uploader.value:\n",
    "            file_content = uploader.value[0]['content']  # Get the uploaded file content\n",
    "            df = pd.read_csv(io.BytesIO(file_content))  # Read file into a pandas DataFrame\n",
    "            display(df.head())  # Display the head of the DataFrame\n",
    "\n",
    "# Observe the uploader for changes\n",
    "uploader.observe(handle_upload, names='value')\n",
    "\n",
    "# Display the uploader and output widgets\n",
    "display(uploader)\n",
    "display(output)\n"
   ]
  }
 ],
 "metadata": {
  "kernelspec": {
   "display_name": "Python 3 (ipykernel)",
   "language": "python",
   "name": "python3"
  },
  "language_info": {
   "codemirror_mode": {
    "name": "ipython",
    "version": 3
   },
   "file_extension": ".py",
   "mimetype": "text/x-python",
   "name": "python",
   "nbconvert_exporter": "python",
   "pygments_lexer": "ipython3",
   "version": "3.12.7"
  }
 },
 "nbformat": 4,
 "nbformat_minor": 5
}
